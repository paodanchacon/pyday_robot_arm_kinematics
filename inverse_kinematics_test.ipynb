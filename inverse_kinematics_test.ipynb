{
 "cells": [
  {
   "cell_type": "code",
   "execution_count": 16,
   "metadata": {},
   "outputs": [],
   "source": [
    "%matplotlib inline\n",
    "import sympy\n",
    "import matplotlib.pyplot as plt\n",
    "import numpy as np\n",
    "from scipy import optimize\n",
    "import math\n",
    "from math import pi\n",
    "np.set_printoptions(\n",
    "    linewidth=120, formatter={\n",
    "        'float': lambda x: f\"{0:8.4g}\" if abs(x) < 1e-10 else f\"{x:8.4g}\"})\n",
    "np.random.seed(0)\n",
    "from spatialmath import *\n",
    "from spatialmath.base import *\n",
    "from roboticstoolbox import *"
   ]
  },
  {
   "cell_type": "markdown",
   "metadata": {},
   "source": [
    "CINEMATICA INVERSA PARA UN BRAZO ROBOTICO EN 2D\n"
   ]
  },
  {
   "cell_type": "markdown",
   "metadata": {},
   "source": [
    "Solucion por formato cerrado con simbolos y algebra"
   ]
  },
  {
   "cell_type": "markdown",
   "metadata": {},
   "source": [
    "Utilizando Sympy para definir constantes simbolicas para la longitud de los brazos del robot\n"
   ]
  },
  {
   "cell_type": "code",
   "execution_count": 17,
   "metadata": {},
   "outputs": [],
   "source": [
    "a0, a1 = sympy.symbols(\"a0 a1\")\n"
   ]
  },
  {
   "cell_type": "markdown",
   "metadata": {},
   "source": [
    "Sistema de transformaciones elementales del robot "
   ]
  },
  {
   "cell_type": "code",
   "execution_count": 67,
   "metadata": {},
   "outputs": [
    {
     "name": "stdout",
     "output_type": "stream",
     "text": [
      "R(q0) ⊕ tx(a0) ⊕ R(q1) ⊕ tx(a1)\n"
     ]
    },
    {
     "data": {
      "text/plain": []
     },
     "execution_count": 67,
     "metadata": {},
     "output_type": "execute_result"
    }
   ],
   "source": [
    "e = ET2.R() * ET2.tx(a0) * ET2.R() * ET2.tx(a1)\n",
    "e"
   ]
  },
  {
   "cell_type": "markdown",
   "metadata": {},
   "source": [
    "Definir variables simbolicas para representar los angulos de las articulaciones"
   ]
  },
  {
   "cell_type": "code",
   "execution_count": 19,
   "metadata": {},
   "outputs": [],
   "source": [
    "q0, q1 = sympy.symbols(\"q0 q1\")"
   ]
  },
  {
   "cell_type": "markdown",
   "metadata": {},
   "source": [
    "Calculando mediante cinematica directa la pose del efector final como funcion de las articulaciones variables"
   ]
  },
  {
   "cell_type": "code",
   "execution_count": 20,
   "metadata": {},
   "outputs": [
    {
     "data": {
      "text/plain": [
       "  \u001b[38;5;1mcos(q0 + q1)\u001b[0m \u001b[38;5;1m-sin(q0 + q1)\u001b[0m \u001b[38;5;4ma0*cos(q0) + a1*cos(q0 + q1)\u001b[0m  \u001b[0m\n",
       "  \u001b[38;5;1msin(q0 + q1)\u001b[0m \u001b[38;5;1mcos(q0 + q1)\u001b[0m \u001b[38;5;4ma0*sin(q0) + a1*sin(q0 + q1)\u001b[0m  \u001b[0m\n",
       "  \u001b[38;5;244m0           \u001b[0m \u001b[38;5;244m0           \u001b[0m \u001b[38;5;244m1           \u001b[0m  \u001b[0m\n"
      ]
     },
     "execution_count": 20,
     "metadata": {},
     "output_type": "execute_result"
    }
   ],
   "source": [
    "TE = e.fkine([q0, q1])\n",
    "TE"
   ]
  },
  {
   "cell_type": "markdown",
   "metadata": {},
   "source": [
    "Trabajamos solo con la posicion del efector final en (x,y), ecuacion 1"
   ]
  },
  {
   "cell_type": "code",
   "execution_count": 71,
   "metadata": {},
   "outputs": [
    {
     "data": {
      "text/latex": [
       "$\\displaystyle a_{0} \\cos{\\left(q_{0} \\right)} + a_{1} \\cos{\\left(q_{0} + q_{1} \\right)}$"
      ],
      "text/plain": [
       "a0*cos(q0) + a1*cos(q0 + q1)"
      ]
     },
     "execution_count": 71,
     "metadata": {},
     "output_type": "execute_result"
    }
   ],
   "source": [
    "x_fk, y_fk = TE.t\n",
    "x_fk"
   ]
  },
  {
   "cell_type": "code",
   "execution_count": 72,
   "metadata": {},
   "outputs": [
    {
     "data": {
      "text/latex": [
       "$\\displaystyle a_{0} \\sin{\\left(q_{0} \\right)} + a_{1} \\sin{\\left(q_{0} + q_{1} \\right)}$"
      ],
      "text/plain": [
       "a0*sin(q0) + a1*sin(q0 + q1)"
      ]
     },
     "execution_count": 72,
     "metadata": {},
     "output_type": "execute_result"
    }
   ],
   "source": [
    "y_fk\n"
   ]
  },
  {
   "cell_type": "markdown",
   "metadata": {},
   "source": [
    "Definir dos variables simbolicas para la posicion final deseada del efector (x, y), ecuacion 2"
   ]
  },
  {
   "cell_type": "code",
   "execution_count": 73,
   "metadata": {},
   "outputs": [],
   "source": [
    "x, y = sympy.symbols(\"x, y\")"
   ]
  },
  {
   "cell_type": "markdown",
   "metadata": {},
   "source": [
    "Hasta aca se tiene 2 ecuaciones"
   ]
  },
  {
   "cell_type": "markdown",
   "metadata": {},
   "source": [
    "Usando sympy con algunos trucos para definir y resolver q0 y q1"
   ]
  },
  {
   "cell_type": "code",
   "execution_count": 23,
   "metadata": {},
   "outputs": [
    {
     "data": {
      "text/latex": [
       "$\\displaystyle a_{0}^{2} + 2 a_{0} a_{1} \\cos{\\left(q_{1} \\right)} + a_{1}^{2} - x^{2} - y^{2}$"
      ],
      "text/plain": [
       "a0**2 + 2*a0*a1*cos(q1) + a1**2 - x**2 - y**2"
      ]
     },
     "execution_count": 23,
     "metadata": {},
     "output_type": "execute_result"
    }
   ],
   "source": [
    "eq1 = (x_fk**2 + y_fk**2-x**2-y**2).trigsimp()\n",
    "eq1"
   ]
  },
  {
   "cell_type": "markdown",
   "metadata": {},
   "source": [
    "La solucion para eq1 es una lista (2 configuraciones diferentes de angulos pueden dar la misma posicion del del efector final)"
   ]
  },
  {
   "cell_type": "code",
   "execution_count": 74,
   "metadata": {},
   "outputs": [
    {
     "data": {
      "text/plain": [
       "[-acos(-(a0**2 + a1**2 - x**2 - y**2)/(2*a0*a1)) + 2*pi,\n",
       " acos((-a0**2 - a1**2 + x**2 + y**2)/(2*a0*a1))]"
      ]
     },
     "execution_count": 74,
     "metadata": {},
     "output_type": "execute_result"
    }
   ],
   "source": [
    "q1_sol = sympy.solve(eq1, q1)\n",
    "q1_sol"
   ]
  },
  {
   "cell_type": "code",
   "execution_count": 82,
   "metadata": {},
   "outputs": [
    {
     "data": {
      "text/plain": [
       "acos"
      ]
     },
     "execution_count": 82,
     "metadata": {},
     "output_type": "execute_result"
    }
   ],
   "source": [
    "type(q1_sol[1])"
   ]
  },
  {
   "cell_type": "markdown",
   "metadata": {},
   "source": [
    "Definicion de q0, expandimos la ecuacion"
   ]
  },
  {
   "cell_type": "code",
   "execution_count": 25,
   "metadata": {},
   "outputs": [
    {
     "data": {
      "text/plain": [
       "(a0*cos(q0) + a1*(-sin(q0)*sin(q1) + cos(q0)*cos(q1)) - x,\n",
       " a0*sin(q0) + a1*(sin(q0)*cos(q1) + sin(q1)*cos(q0)) - y)"
      ]
     },
     "execution_count": 25,
     "metadata": {},
     "output_type": "execute_result"
    }
   ],
   "source": [
    "eq0 = tuple(map(sympy.expand_trig, [x_fk - x, y_fk - y]))\n",
    "eq0"
   ]
  },
  {
   "cell_type": "markdown",
   "metadata": {},
   "source": [
    "Solucion de q0 en terminos de cos(q0) y sen(q0)"
   ]
  },
  {
   "cell_type": "code",
   "execution_count": 76,
   "metadata": {},
   "outputs": [
    {
     "data": {
      "text/plain": [
       "{sin(q0): a0*y/(a0**2 + 2*a0*a1*cos(q1) + a1**2*sin(q1)**2 + a1**2*cos(q1)**2) - a1*x*sin(q1)/(a0**2 + 2*a0*a1*cos(q1) + a1**2*sin(q1)**2 + a1**2*cos(q1)**2) + a1*y*cos(q1)/(a0**2 + 2*a0*a1*cos(q1) + a1**2*sin(q1)**2 + a1**2*cos(q1)**2),\n",
       " cos(q0): a0*x/(a0**2 + 2*a0*a1*cos(q1) + a1**2*sin(q1)**2 + a1**2*cos(q1)**2) + a1*x*cos(q1)/(a0**2 + 2*a0*a1*cos(q1) + a1**2*sin(q1)**2 + a1**2*cos(q1)**2) + a1*y*sin(q1)/(a0**2 + 2*a0*a1*cos(q1) + a1**2*sin(q1)**2 + a1**2*cos(q1)**2)}"
      ]
     },
     "execution_count": 76,
     "metadata": {},
     "output_type": "execute_result"
    }
   ],
   "source": [
    "q0_sol = sympy.solve(eq0, [sympy.sin(q0), sympy.cos(q0)])\n",
    "q0_sol"
   ]
  },
  {
   "cell_type": "code",
   "execution_count": 80,
   "metadata": {},
   "outputs": [
    {
     "data": {
      "text/plain": [
       "dict"
      ]
     },
     "execution_count": 80,
     "metadata": {},
     "output_type": "execute_result"
    }
   ],
   "source": [
    "type(q0_sol)"
   ]
  },
  {
   "cell_type": "markdown",
   "metadata": {},
   "source": [
    "La relacion del coseno y del seno nos da la tangente"
   ]
  },
  {
   "cell_type": "code",
   "execution_count": 77,
   "metadata": {},
   "outputs": [
    {
     "data": {
      "text/latex": [
       "$\\displaystyle \\operatorname{atan}_{2}{\\left(\\frac{a_{0} y - a_{1} x \\sin{\\left(q_{1} \\right)} + a_{1} y \\cos{\\left(q_{1} \\right)}}{a_{0}^{2} + 2 a_{0} a_{1} \\cos{\\left(q_{1} \\right)} + a_{1}^{2}},\\frac{a_{0} x + a_{1} x \\cos{\\left(q_{1} \\right)} + a_{1} y \\sin{\\left(q_{1} \\right)}}{a_{0}^{2} + 2 a_{0} a_{1} \\cos{\\left(q_{1} \\right)} + a_{1}^{2}} \\right)}$"
      ],
      "text/plain": [
       "atan2((a0*y - a1*x*sin(q1) + a1*y*cos(q1))/(a0**2 + 2*a0*a1*cos(q1) + a1**2), (a0*x + a1*x*cos(q1) + a1*y*sin(q1))/(a0**2 + 2*a0*a1*cos(q1) + a1**2))"
      ]
     },
     "execution_count": 77,
     "metadata": {},
     "output_type": "execute_result"
    }
   ],
   "source": [
    "q0_sol_2 = sympy.atan2(q0_sol[sympy.sin(q0)], q0_sol[sympy.cos(q0)]).simplify()\n",
    "q0_sol_2\n"
   ]
  },
  {
   "cell_type": "code",
   "execution_count": 81,
   "metadata": {},
   "outputs": [
    {
     "data": {
      "text/plain": [
       "atan2"
      ]
     },
     "execution_count": 81,
     "metadata": {},
     "output_type": "execute_result"
    }
   ],
   "source": [
    "type(q0_sol_2)"
   ]
  },
  {
   "cell_type": "markdown",
   "metadata": {},
   "source": [
    "Evaluacion para la ecuacion eq1, componente 1 de la lista de soluciones"
   ]
  },
  {
   "cell_type": "code",
   "execution_count": 89,
   "metadata": {},
   "outputs": [
    {
     "data": {
      "text/latex": [
       "$\\displaystyle \\frac{3 \\pi}{2}$"
      ],
      "text/plain": [
       "3*pi/2"
      ]
     },
     "execution_count": 89,
     "metadata": {},
     "output_type": "execute_result"
    }
   ],
   "source": [
    "q1_sol_subs = q1_sol[0].subs({x:1, y:1, a0:1, a1:1})\n",
    "q1_sol_subs"
   ]
  },
  {
   "cell_type": "code",
   "execution_count": 90,
   "metadata": {},
   "outputs": [
    {
     "data": {
      "text/plain": [
       "sympy.core.mul.Mul"
      ]
     },
     "execution_count": 90,
     "metadata": {},
     "output_type": "execute_result"
    }
   ],
   "source": [
    "type(q1_sol_subs)"
   ]
  },
  {
   "cell_type": "markdown",
   "metadata": {},
   "source": [
    "Evaluacion para ecuacion eq1 como punto flotante y convierte la expresion simbolica en valores numericos"
   ]
  },
  {
   "cell_type": "code",
   "execution_count": 84,
   "metadata": {},
   "outputs": [
    {
     "data": {
      "text/latex": [
       "$\\displaystyle 4.71238898038469$"
      ],
      "text/plain": [
       "4.71238898038469"
      ]
     },
     "execution_count": 84,
     "metadata": {},
     "output_type": "execute_result"
    }
   ],
   "source": [
    "q1_num = q1_sol_subs.evalf()\n",
    "q1_num"
   ]
  },
  {
   "cell_type": "code",
   "execution_count": 91,
   "metadata": {},
   "outputs": [
    {
     "data": {
      "text/plain": [
       "sympy.core.numbers.Float"
      ]
     },
     "execution_count": 91,
     "metadata": {},
     "output_type": "execute_result"
    }
   ],
   "source": [
    "type(q1_num)"
   ]
  },
  {
   "cell_type": "code",
   "execution_count": 92,
   "metadata": {},
   "outputs": [
    {
     "data": {
      "text/plain": [
       "float"
      ]
     },
     "execution_count": 92,
     "metadata": {},
     "output_type": "execute_result"
    }
   ],
   "source": [
    "type(float(q1_num))"
   ]
  },
  {
   "cell_type": "markdown",
   "metadata": {},
   "source": [
    "Evaluacion para ecuacion eq0"
   ]
  },
  {
   "cell_type": "code",
   "execution_count": 96,
   "metadata": {},
   "outputs": [
    {
     "data": {
      "text/latex": [
       "$\\displaystyle -1.5707963267949 + \\pi$"
      ],
      "text/plain": [
       "-1.5707963267949 + pi"
      ]
     },
     "execution_count": 96,
     "metadata": {},
     "output_type": "execute_result"
    }
   ],
   "source": [
    "q0_sol_subs = q0_sol_2.subs({x:1, y:1, a0:1, a1:1, q1:q1_num})\n",
    "q0_sol_subs"
   ]
  },
  {
   "cell_type": "code",
   "execution_count": 99,
   "metadata": {},
   "outputs": [
    {
     "data": {
      "text/latex": [
       "$\\displaystyle 1.5707963267949$"
      ],
      "text/plain": [
       "1.57079632679490"
      ]
     },
     "execution_count": 99,
     "metadata": {},
     "output_type": "execute_result"
    }
   ],
   "source": [
    "q0_num = q0_sol_subs.evalf()\n",
    "q0_num"
   ]
  },
  {
   "cell_type": "code",
   "execution_count": 100,
   "metadata": {},
   "outputs": [
    {
     "data": {
      "text/plain": [
       "float"
      ]
     },
     "execution_count": 100,
     "metadata": {},
     "output_type": "execute_result"
    }
   ],
   "source": [
    "type(float(q0_num))"
   ]
  }
 ],
 "metadata": {
  "kernelspec": {
   "display_name": "pyday_robot",
   "language": "python",
   "name": "python3"
  },
  "language_info": {
   "codemirror_mode": {
    "name": "ipython",
    "version": 3
   },
   "file_extension": ".py",
   "mimetype": "text/x-python",
   "name": "python",
   "nbconvert_exporter": "python",
   "pygments_lexer": "ipython3",
   "version": "3.11.10"
  }
 },
 "nbformat": 4,
 "nbformat_minor": 2
}
