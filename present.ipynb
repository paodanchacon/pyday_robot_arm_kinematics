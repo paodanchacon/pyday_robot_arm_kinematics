{
 "cells": [
  {
   "cell_type": "markdown",
   "metadata": {},
   "source": [
    "\n",
    "<h4 style=\"color: white;\"><center>PRESENTACION </center></h4>\n",
    "<h4 style=\"color: white;\"><center>CALCULOS MATEMATICOS PARA LA SIMULACION DE UN BRAZO ROBOTICO</center></h4>\n",
    "\n"
   ]
  },
  {
   "cell_type": "markdown",
   "metadata": {},
   "source": [
    "<div style=\"text-align: center;\">\n",
    "<img src=\"/home/paola/dev/pyday/pyday_robot_arm_kinematics/images/relation_fk_ik.png\" alt=\"diagram0\" width=\"400\"/>\n",
    "</div>"
   ]
  },
  {
   "cell_type": "markdown",
   "metadata": {},
   "source": [
    "<h4 style=\"color: green;\">Cinematica Directa</h4>"
   ]
  },
  {
   "cell_type": "markdown",
   "metadata": {},
   "source": [
    "<h4 style=\"color: green;\">Cinematica Inversa</h4>"
   ]
  },
  {
   "cell_type": "markdown",
   "metadata": {},
   "source": [
    "<h4 style=\"color: green;\">Concepto General</h4>\n",
    "\n"
   ]
  },
  {
   "cell_type": "markdown",
   "metadata": {},
   "source": [
    "Brazo Robotico con 1 joint y 1 eslabon "
   ]
  },
  {
   "cell_type": "markdown",
   "metadata": {},
   "source": [
    "<div style=\"text-align: center;\">\n",
    "<img src=\"/home/paola/dev/pyday/pyday_robot_arm_kinematics/images/1joint_1link.png\" alt=\"diagram1\" width=\"400\"/>\n",
    "</div>\n"
   ]
  },
  {
   "cell_type": "markdown",
   "metadata": {},
   "source": [
    "Grafico de Poses para resolver la cinematica\n"
   ]
  },
  {
   "cell_type": "markdown",
   "metadata": {},
   "source": [
    "<div style=\"text-align: center;\">\n",
    "<img src=\"/home/paola/dev/pyday/pyday_robot_arm_kinematics/images/poses_sol1.png\" alt=\"diagram2\" width=\"400\" /> \n",
    "</div>\n"
   ]
  },
  {
   "cell_type": "markdown",
   "metadata": {},
   "source": [
    "Ecuacion de la pose del efector final para el caso 1 joint y 1 eslabon"
   ]
  },
  {
   "cell_type": "markdown",
   "metadata": {},
   "source": [
    "$$\n",
    "{}^0\\xi_E = \\xi^r(q) \\oplus \\xi^{tx}(a_1)\n",
    "$$"
   ]
  },
  {
   "cell_type": "markdown",
   "metadata": {},
   "source": [
    "<h4 style=\"color: green;\">Caso de estudio aplicativo</h4>"
   ]
  },
  {
   "cell_type": "markdown",
   "metadata": {},
   "source": [
    "Brazo Robotico con 2 joints y 2 eslabones "
   ]
  },
  {
   "cell_type": "markdown",
   "metadata": {},
   "source": [
    "<div style=\"text-align: center;\">\n",
    "<img src=\"/home/paola/dev/pyday/pyday_robot_arm_kinematics/images/2joints_2links.png\" alt=\"diagram2\" width=\"400\" /> \n",
    "</div>\n",
    "\n",
    "\n"
   ]
  },
  {
   "cell_type": "markdown",
   "metadata": {},
   "source": [
    "Grafico de Poses para resolver la cinematica del brazo del robot\n",
    "\n",
    "\n",
    "\n"
   ]
  },
  {
   "cell_type": "markdown",
   "metadata": {},
   "source": [
    "<div style=\"text-align: center;\">\n",
    "<img src=\"/home/paola/dev/pyday/pyday_robot_arm_kinematics/images/poses_sol2.png\" alt=\"diagram2\" width=\"400\" /> \n",
    "</div>"
   ]
  },
  {
   "cell_type": "markdown",
   "metadata": {},
   "source": [
    "Ecuacion de la pose del efector final para el caso 2 joints y 2 eslabones"
   ]
  },
  {
   "cell_type": "markdown",
   "metadata": {},
   "source": [
    "$$\n",
    "{}^0\\xi_E = \\xi^r(q0) \\oplus \\xi^{tx}(a_1) \\oplus \\xi^r(q1) \\oplus \\xi^{tx}(a_2)\n",
    "$$"
   ]
  },
  {
   "cell_type": "markdown",
   "metadata": {},
   "source": [
    "Resultado del calculo de la cinematica directa dado los angulos de los joints"
   ]
  },
  {
   "cell_type": "markdown",
   "metadata": {},
   "source": [
    "\\begin{bmatrix}\n",
    "\\cos(q_0 + q_1) & -\\sin(q_0 + q_1) & a_1 \\cdot \\cos(q_0) + a_2 \\cdot \\cos(q_0 + q_1) \\\\\n",
    "\\sin(q_0 + q_1) & \\cos(q_0 + q_1) & a_1 \\cdot \\sin(q_0) + a_2 \\cdot \\sin(q_0 + q_1) \\\\\n",
    "0 & 0 & 1\n",
    "\\end{bmatrix}"
   ]
  },
  {
   "cell_type": "markdown",
   "metadata": {},
   "source": [
    "La posicion del efector final"
   ]
  },
  {
   "cell_type": "markdown",
   "metadata": {},
   "source": [
    "\n",
    "$$\n",
    "x = a_1 \\cdot \\cos(q_0) + a_2 \\cdot \\cos(q_0 + q_1)\\\\\n",
    "y = a_1 \\cdot \\sin(q_0) + a_2 \\cdot \\sin(q_0 + q_1)\n",
    "$$\n"
   ]
  },
  {
   "cell_type": "markdown",
   "metadata": {},
   "source": [
    "Resolucion de dos ecuaciones con la tecnica de elevacion al cuadrado y suma de las dos ecuaciones"
   ]
  },
  {
   "cell_type": "markdown",
   "metadata": {},
   "source": [
    "$$\n",
    "a_0^2 + 2a_0a_1 \\cos(q_1) + a_1^2 - x^2 - y^2 = 0\n",
    "$$\n"
   ]
  },
  {
   "cell_type": "markdown",
   "metadata": {},
   "source": [
    "Solucion de q1 es una lista con dos elementos"
   ]
  },
  {
   "cell_type": "markdown",
   "metadata": {},
   "source": [
    "$$\n",
    "\\left[ -\\arccos\\left(-\\frac{a_1^2 + a_2^2 - x^2 - y^2}{2a_1a_2}\\right) + 2\\pi, \\arccos\\left(\\frac{-a_1^2 - a_2^2 + x^2 + y^2}{2a_1a_2}\\right) \\right]\n",
    "$$"
   ]
  },
  {
   "cell_type": "markdown",
   "metadata": {},
   "source": [
    "Tupla de valores de la matriz del efector final\n"
   ]
  },
  {
   "cell_type": "markdown",
   "metadata": {},
   "source": [
    "\n",
    "$$\n",
    "a_1 \\cdot \\cos(q_0) + a_2 \\cdot \\cos(q_0 + q_1) - x\\\\\n",
    "a_1 \\cdot \\sin(q_0) + a_2 \\cdot \\sin(q_0 + q_1) - y\n",
    "$$\n"
   ]
  },
  {
   "cell_type": "markdown",
   "metadata": {},
   "source": [
    "Expandiendo las ecuaciones anteriormente dadas"
   ]
  },
  {
   "cell_type": "markdown",
   "metadata": {},
   "source": [
    "$$\n",
    "a_1\\cos(q_0) + a_2(\\cos(q_0)\\cos(q_1) - \\sin(q_0) \\sin(q_1)) - x\\\\\n",
    "a_1\\sin(q_0) + a_2(\\sin(q_1)\\cos(q_0) + \\sin(q_0) \\cos(q_1)) - y\n",
    "$$\n"
   ]
  },
  {
   "cell_type": "markdown",
   "metadata": {},
   "source": [
    "Solucion para q0 en base a seno y coseno\n"
   ]
  },
  {
   "cell_type": "markdown",
   "metadata": {},
   "source": [
    "$$\n",
    "\\text{atan2}\\left(\\frac{a_1y - a_2x \\sin(q_1) + a_2y \\cos(q_1)}{a_1^2 + 2a_0a_2 \\cos(q_1) + a_2^2}, \\frac{a_1x + a_2x \\cos(q_1) + a_2y \\sin(q_1)}{a_1^2 + 2a_1a_2 \\cos(q_1) + a_2^2}\\right)\n",
    "$$\n",
    "\n"
   ]
  }
 ],
 "metadata": {
  "kernelspec": {
   "display_name": "pyday_robot",
   "language": "python",
   "name": "python3"
  },
  "language_info": {
   "codemirror_mode": {
    "name": "ipython",
    "version": 3
   },
   "file_extension": ".py",
   "mimetype": "text/x-python",
   "name": "python",
   "nbconvert_exporter": "python",
   "pygments_lexer": "ipython3",
   "version": "3.11.10"
  }
 },
 "nbformat": 4,
 "nbformat_minor": 2
}
