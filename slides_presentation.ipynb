{
 "cells": [
  {
   "cell_type": "markdown",
   "metadata": {},
   "source": [
    "\n",
    "<h2 style=\"color: blue;\"><center>PRESENTACIÓN </center></h2>\n",
    "<h3 style=\"color: green;\"><center>Simulación de la cinemática de un brazo robot</center></h3>\n",
    "\n"
   ]
  },
  {
   "cell_type": "markdown",
   "metadata": {},
   "source": [
    "<div style=\"text-align: center;\">\n",
    "<img src=\"./images/relation_fk_ik.png\" alt=\"diagram0\" width=\"400\"/>\n",
    "</div>"
   ]
  },
  {
   "cell_type": "markdown",
   "metadata": {},
   "source": [
    "<table>\n",
    "  <tr>\n",
    "    <td>\n",
    "      <img src=\"./images/3.jpg\" alt=\"Your Photo\" width=\"500\">\n",
    "    </td>\n",
    "    <td style=\"vertical-align: top; padding-left: 15px;\">\n",
    "      <h3>Paola Daniela Chambilla Condori</h3>\n",
    "      <ul>\n",
    "        <li>Experiencia en el area de automatización de maquinaria\n",
    "         industrial (PLCs, HMIs, SCADAs, Controladores de Procesos, Instrumentación industrial, Comunicación Industrial)</li>\n",
    "        <li>Servicios de Automatización y Aprendiendo Python</li>\n",
    "        <li>Drones, Matemáticas y Legos</li>\n",
    "      </ul>\n",
    "    </td>\n",
    "  </tr>\n",
    "</table>"
   ]
  },
  {
   "cell_type": "markdown",
   "metadata": {},
   "source": [
    "<div style=\"font-family: Arial, sans-serif; line-height: 1.6; max-width: 1000px;\">\n",
    "  <h4 style=\"color: green;\">Motivación y Objetivo</h4>\n",
    "  <p>\n",
    "    A lo largo de este tiempo trabajando en el area de maquinaria industrial, principalmente en las ciudades de La Paz y El Alto de Bolivia, he entendido que realizar prototipos de las soluciones a problemas presentes, son esenciales para:\n",
    "      <li> Hacer pruebas rápidas de la solución </li>\n",
    "      <li> Definir requerimientos espefícicos </li>\n",
    "      <li> Definir tipo de materiales </li>\n",
    "      <li> Determinar precisión, etc </li>\n",
    "  </p>\n",
    "  <p>\n",
    "    Hoy en día se ha expandido el uso de robots en el sector industrial. Hay empresas medianas y pequeñas que quieren introducir estos elementos en sus lineas de producción, sin embargo aun existen factores que se deben considerar antes de la implementación:\n",
    "      <li> Costos de inversión </li>\n",
    "      <li> Experiencia técnica </li>\n",
    "      <li> Infraestructura </li>\n",
    "      <li> Flexibilidad </li>\n",
    "      <li> Miedo al riesgo</li>\n",
    "  </p>\n",
    "\n",
    "</div>\n"
   ]
  },
  {
   "cell_type": "markdown",
   "metadata": {},
   "source": [
    "<div style=\"display: flex; align-items: center;\">\n",
    "\n",
    "  <p>\n",
    "  En esta oportunidad, vamos a entender y experimentar  mediante una simulación el funcionamiento de un brazo robótico con 2 articulaciones(joints) y 2 eslabones(links). \n",
    "  </p>\n",
    "\n",
    "</div>\n"
   ]
  },
  {
   "cell_type": "markdown",
   "metadata": {},
   "source": [
    "<div style=\"display: flex; align-items: center;\">\n",
    "    <img src=\"./images/Universal-UR5.png\" alt=\"Robotic Arm Simulation\" style=\"width: 300px; margin-right: 15px;\">\n",
    "    <p>\n",
    "         Utilizando Python y sus librerias, Numpy, Sympy y Pygame, vamos a explorar como empezar a crear un ambiente de simulación que servirá como un puente entre el diseño teorico y la aplicación en el mundo real. El objetivo es poder programar la cinemática de un brazo robotico y visualizar los movimientos básicos para luego crear prototipos mas avanzados..\n",
    "    </p>\n",
    "</div>\n"
   ]
  },
  {
   "cell_type": "markdown",
   "metadata": {},
   "source": [
    "<h4 style=\"color: green;\">Cinemática Directa</h4>"
   ]
  },
  {
   "cell_type": "markdown",
   "metadata": {},
   "source": [
    "Calcular  la posición del efector final en base a los angulos de las articulaciones.\n",
    "$$\n",
    "{}^0\\xi_E = K(q)\n",
    "$$\n",
    "<div style=\"text-align: center;\">\n",
    "    <img src=\"./images/fk_sol.jpg\" alt=\"Your Photo\" width=\"500\">\n",
    "</div>\n",
    "\n"
   ]
  },
  {
   "cell_type": "markdown",
   "metadata": {},
   "source": [
    "<h4 style=\"color: green;\">Cinemática Inversa</h4>"
   ]
  },
  {
   "cell_type": "markdown",
   "metadata": {},
   "source": [
    "Calcula los angulos de las articulaciones en base a la posicion del efector final\n",
    "$$\n",
    "q = K^{-1}(\\xi_E)\n",
    "$$\n",
    "<div style=\"text-align: center;\">\n",
    "    <img src=\"./images/ik_sol.jpg\" alt=\"Your Photo\" width=\"500\">\n",
    "</div>"
   ]
  },
  {
   "cell_type": "markdown",
   "metadata": {},
   "source": [
    "<div style=\"text-align: center;\">\n",
    "<img src=\"./images/fw.png\" alt=\"diagram0\" width=\"400\"/>\n",
    "</div>"
   ]
  },
  {
   "cell_type": "markdown",
   "metadata": {},
   "source": [
    "<h4 style=\"color: green;\">Concepto General</h4>\n",
    "\n"
   ]
  },
  {
   "cell_type": "markdown",
   "metadata": {},
   "source": [
    "Brazo Robótico con 1 joint y 1 eslabon "
   ]
  },
  {
   "cell_type": "markdown",
   "metadata": {},
   "source": [
    "<div style=\"text-align: center;\">\n",
    "<img src=\"./images/1joint_1link.png\" alt=\"diagram1\" width=\"400\"/>\n",
    "</div>\n"
   ]
  },
  {
   "cell_type": "markdown",
   "metadata": {},
   "source": [
    "Gráfico de Poses para resolver la cinemática\n"
   ]
  },
  {
   "cell_type": "markdown",
   "metadata": {},
   "source": [
    "<div style=\"text-align: center;\">\n",
    "<img src=\"./images/poses_sol1.png\" alt=\"diagram2\" width=\"400\" /> \n",
    "</div>\n"
   ]
  },
  {
   "cell_type": "markdown",
   "metadata": {},
   "source": [
    "Ecuación de la pose del efector final para el caso 1 joint y 1 eslabon"
   ]
  },
  {
   "cell_type": "markdown",
   "metadata": {},
   "source": [
    "$$\n",
    "{}^0\\xi_E = \\xi^r(q) \\oplus \\xi^{tx}(a_1)\n",
    "$$"
   ]
  },
  {
   "cell_type": "markdown",
   "metadata": {},
   "source": [
    "<h4 style=\"color: green;\">Herramientas y entorno de desarrollo</h4>"
   ]
  },
  {
   "cell_type": "markdown",
   "metadata": {},
   "source": [
    "<li> roboticstoolbox de Peter Corke </li>\n",
    "<li> Matplotlib </li>\n",
    "<li> Pygame </li>\n",
    "<li> Sympy </li>\n",
    "\n",
    "Mayor información para la configuración del entorno de desarrollo en python revisar [README.md](README.md)."
   ]
  },
  {
   "cell_type": "markdown",
   "metadata": {},
   "source": [
    "<h4 style=\"color: green;\">Implementación práctica</h4>"
   ]
  },
  {
   "cell_type": "markdown",
   "metadata": {},
   "source": [
    "Brazo Robótico con 2 joints y 2 eslabones "
   ]
  },
  {
   "cell_type": "markdown",
   "metadata": {},
   "source": [
    "<div style=\"text-align: center;\">\n",
    "<img src=\"./images/2joints_2links.png\" alt=\"diagram2\" width=\"400\" /> \n",
    "</div>\n",
    "\n",
    "\n"
   ]
  },
  {
   "cell_type": "markdown",
   "metadata": {},
   "source": [
    "Gráfico de Poses para resolver la cinemática del brazo del robot\n",
    "\n",
    "\n",
    "\n"
   ]
  },
  {
   "cell_type": "markdown",
   "metadata": {},
   "source": [
    "<div style=\"text-align: center;\">\n",
    "<img src=\"./images/poses_sol2.png\" alt=\"diagram2\" width=\"400\" /> \n",
    "</div>"
   ]
  },
  {
   "cell_type": "markdown",
   "metadata": {},
   "source": [
    "<span style=\"color: cyan;\"> Ecuación de la pose del efector final para el caso 2 joints y 2 eslabones</span>"
   ]
  },
  {
   "cell_type": "markdown",
   "metadata": {},
   "source": [
    "$$\n",
    "{}^0\\xi_E = \\xi^r(q0) \\oplus \\xi^{tx}(a_1) \\oplus \\xi^r(q1) \\oplus \\xi^{tx}(a_2)\n",
    "$$"
   ]
  },
  {
   "cell_type": "markdown",
   "metadata": {},
   "source": [
    "Resultado del cálculo de la cinemática directa dado los ángulos de los joints"
   ]
  },
  {
   "cell_type": "markdown",
   "metadata": {},
   "source": [
    "\\begin{bmatrix}\n",
    "\\cos(q_0 + q_1) & -\\sin(q_0 + q_1) & a_1 \\cdot \\cos(q_0) + a_2 \\cdot \\cos(q_0 + q_1) \\\\\n",
    "\\sin(q_0 + q_1) & \\cos(q_0 + q_1) & a_1 \\cdot \\sin(q_0) + a_2 \\cdot \\sin(q_0 + q_1) \\\\\n",
    "0 & 0 & 1\n",
    "\\end{bmatrix}"
   ]
  },
  {
   "cell_type": "markdown",
   "metadata": {},
   "source": [
    "La posición del efector final"
   ]
  },
  {
   "cell_type": "markdown",
   "metadata": {},
   "source": [
    "\n",
    "$$\n",
    "x = a_1 \\cdot \\cos(q_0) + a_2 \\cdot \\cos(q_0 + q_1)\\\\\n",
    "y = a_1 \\cdot \\sin(q_0) + a_2 \\cdot \\sin(q_0 + q_1)\n",
    "$$\n"
   ]
  },
  {
   "cell_type": "markdown",
   "metadata": {},
   "source": [
    "Resolución de dos ecuaciones con la técnica de elevación al cuadrado y suma de las dos ecuaciones"
   ]
  },
  {
   "cell_type": "markdown",
   "metadata": {},
   "source": [
    "$$\n",
    "a_0^2 + 2a_0a_1 \\cos(q_1) + a_1^2 - x^2 - y^2 = 0\n",
    "$$\n"
   ]
  },
  {
   "cell_type": "markdown",
   "metadata": {},
   "source": [
    "<span style=\"color: cyan;\">Solución de q1 es una lista con dos elementos</span>\n"
   ]
  },
  {
   "cell_type": "markdown",
   "metadata": {},
   "source": [
    "$$\n",
    "\\left[ -\\arccos\\left(-\\frac{a_1^2 + a_2^2 - x^2 - y^2}{2a_1a_2}\\right) + 2\\pi, \\arccos\\left(\\frac{-a_1^2 - a_2^2 + x^2 + y^2}{2a_1a_2}\\right) \\right]\n",
    "$$"
   ]
  },
  {
   "cell_type": "markdown",
   "metadata": {},
   "source": [
    "Tupla de valores de la matriz del efector final\n"
   ]
  },
  {
   "cell_type": "markdown",
   "metadata": {},
   "source": [
    "\n",
    "$$\n",
    "a_1 \\cdot \\cos(q_0) + a_2 \\cdot \\cos(q_0 + q_1) - x\\\\\n",
    "a_1 \\cdot \\sin(q_0) + a_2 \\cdot \\sin(q_0 + q_1) - y\n",
    "$$\n"
   ]
  },
  {
   "cell_type": "markdown",
   "metadata": {},
   "source": [
    "Expandiendo las ecuaciones anteriormente dadas"
   ]
  },
  {
   "cell_type": "markdown",
   "metadata": {},
   "source": [
    "$$\n",
    "a_1\\cos(q_0) + a_2(\\cos(q_0)\\cos(q_1) - \\sin(q_0) \\sin(q_1)) - x\\\\\n",
    "a_1\\sin(q_0) + a_2(\\sin(q_1)\\cos(q_0) + \\sin(q_0) \\cos(q_1)) - y\n",
    "$$\n"
   ]
  },
  {
   "cell_type": "markdown",
   "metadata": {},
   "source": [
    "<span style=\"color:cyan;\">Solución para q0 en base a seno y coseno</span>\n"
   ]
  },
  {
   "cell_type": "markdown",
   "metadata": {},
   "source": [
    "$$\n",
    "\\text{atan2}\\left(\\frac{a_1y - a_2x \\sin(q_1) + a_2y \\cos(q_1)}{a_1^2 + 2a_0a_2 \\cos(q_1) + a_2^2}, \\frac{a_1x + a_2x \\cos(q_1) + a_2y \\sin(q_1)}{a_1^2 + 2a_1a_2 \\cos(q_1) + a_2^2}\\right)\n",
    "$$\n",
    "\n"
   ]
  },
  {
   "cell_type": "markdown",
   "metadata": {},
   "source": [
    "<h4 style=\"color: green;\">Conclusiones</h4>"
   ]
  },
  {
   "cell_type": "markdown",
   "metadata": {},
   "source": [
    "<li> Motivación por aplicaciones en la industria</li>\n",
    "<li> Formulación matematica de la cinematica de un brazo robotico de 2 articulaciones y 2 eslabones </li>\n",
    "<li> Codificación de la cinemática de un brazo robótico de 2 articulaciones y 2 eslabones</li>\n",
    "<li> Simulación 2d y visualizacion de la cinematica de un brazo robotico de 2 articulaciones y 2 eslabones </li>\n",
    "<li> Aumentar eslabones y articulaciones; simulación en 3d; adicionar componentes de velocidad, torque, etc</li>"
   ]
  }
 ],
 "metadata": {
  "kernelspec": {
   "display_name": "pyday_robot",
   "language": "python",
   "name": "python3"
  },
  "language_info": {
   "codemirror_mode": {
    "name": "ipython",
    "version": 3
   },
   "file_extension": ".py",
   "mimetype": "text/x-python",
   "name": "python",
   "nbconvert_exporter": "python",
   "pygments_lexer": "ipython3",
   "version": "3.11.10"
  }
 },
 "nbformat": 4,
 "nbformat_minor": 2
}
