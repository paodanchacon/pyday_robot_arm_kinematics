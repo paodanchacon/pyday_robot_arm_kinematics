{
 "cells": [
  {
   "cell_type": "markdown",
   "metadata": {},
   "source": [
    "\n",
    "<h2 style=\"color: blue;\"><center>PRESENTACIÓN </center></h2>\n",
    "<h3 style=\"color: green;\"><center>Simulación de la cinemática de un brazo robot</center></h3>\n",
    "\n"
   ]
  },
  {
   "cell_type": "markdown",
   "metadata": {},
   "source": [
    "<div style=\"text-align: center;\">\n",
    "<video width=\"740\" height=\"660\" controls>\n",
    "  <source src=\"./images/yamaha_robot.mp4\" type=\"video/mp4\">\n",
    "  Your browser does not support the video tag.\n",
    "</video>\n",
    "</div>"
   ]
  },
  {
   "cell_type": "markdown",
   "metadata": {},
   "source": [
    "<table>\n",
    "  <tr>\n",
    "    <td>\n",
    "      <img src=\"./images/3.jpg\" alt=\"Your Photo\" width=\"500\">\n",
    "    </td>\n",
    "    <td style=\"vertical-align: top; padding-left: 15px;\">\n",
    "      <h3>Paola Daniela Chambilla Condori</h3>\n",
    "      <ul>\n",
    "        <li>Experiencia en el area de automatización de maquinaria\n",
    "         industrial (PLCs, HMIs, SCADAs, Controladores de Procesos, Instrumentación industrial, Comunicación Industrial)</li>\n",
    "        <li>Servicios de Automatización y Aprendiendo Python</li>\n",
    "        <li>Drones, Matemáticas y Legos</li>\n",
    "      </ul>\n",
    "    </td>\n",
    "  </tr>\n",
    "</table>"
   ]
  },
  {
   "cell_type": "markdown",
   "metadata": {},
   "source": [
    "<div style=\"font-family: Arial, sans-serif; line-height: 1.6; max-width: 1000px;\">\n",
    "  <h4 style=\"color: green;\">Motivación y Objetivo</h4>\n",
    "  <p>\n",
    "    La motivación principal de realizar esta prototipo es: <h5 style=\"color: lightgreen; text-align: center;\"> aprovechar_tiempo = ahorrar_dinero</h5>\n",
    "    Cómo?\n",
    "      <li> Pruebas rápidas de la solución </li>\n",
    "      <li> Definir requerimientos y alcances específicos</li>\n",
    "      <li> Definir materiales </li>\n",
    "      <li> Definir precisión </li>\n",
    "  </p>\n",
    "  <p>\n",
    "    El objetivo es desarrollar un prototipo de un brazo robot para: \n",
    "      <li> Entender funcionalidad </li>\n",
    "      <li> Proponer soluciones industriales con robots</li>\n",
    "      <li> Desarrollar prototipos a soluciones personalizadas</li>\n",
    "  </p>\n",
    "</div>\n"
   ]
  },
  {
   "cell_type": "markdown",
   "metadata": {},
   "source": [
    "<div style=\"font-family: Arial, sans-serif; line-height: 1.6; max-width: 1000px;\">\n",
    "  <h4 style=\"color: green;\">Conceptos generales</h4>\n",
    "  <p>\n",
    "      <li> Qué es la cinemática? </li>\n",
    "      <li> Que terminología se utiliza? </li>\n",
    "      <li> Qué es la cinemática directa? </li>\n",
    "      <li> Qué es la cinemática inversa? </li>\n",
    "  </p>\n",
    "</div>\n"
   ]
  },
  {
   "cell_type": "markdown",
   "metadata": {},
   "source": [
    "<div style=\"font-family: Arial, sans-serif; line-height: 1.6; max-width: 1000px;\">\n",
    "  <h5 style=\"color: green;\">1. Cinemática</h5>\n",
    "  <p>\n",
    "      Es la rama de la mecánica que estudia el movimiento de los cuerpos en el espacio\n",
    "      sin considerar las causas que lo producen.\n",
    "  </p>\n",
    "</div>\n"
   ]
  },
  {
   "cell_type": "markdown",
   "metadata": {},
   "source": [
    "<div style=\"font-family: Arial, sans-serif; line-height: 1.6; max-width: 1000px;\">\n",
    "  <h5 style=\"color: green;\">2. Terminología</h5>\n",
    "  <p>\n",
    "      <li>Articulaciones o joints</li>\n",
    "      <li>Eslabones o links</li>\n",
    "      <li>Pose del efector final</li>\n",
    "      <li>Poses relativa</li>\n",
    "      <li>Matrices de transformación</li>\n",
    "  </p>\n",
    "<div style=\"text-align: center;\">\n",
    "<img src=\"./images/fw.png\" alt=\"diagram0\" width=\"400\"/>\n"
   ]
  },
  {
   "cell_type": "markdown",
   "metadata": {},
   "source": [
    "<div style=\"font-family: Arial, sans-serif; line-height: 1.6; max-width: 1000px;\">\n",
    "    <h5 style=\"color: green;\">3. Cinemática directa</h5>\n",
    "    <p>\n",
    "        Calcular la posición del efector final en base a los ángulos de las articulaciones\n",
    "    </p>\n",
    "</div>\n",
    "\n",
    "<div style=\"text-align: center;\">\n",
    "<img src=\"./images/fk_sol.jpg\" alt=\"diagram0\" width=\"600\"/>\n",
    "\n",
    "$$\n",
    "{}^0\\xi_E = K(q)\n",
    "$$\n"
   ]
  },
  {
   "cell_type": "markdown",
   "metadata": {},
   "source": [
    "<div style=\"font-family: Arial, sans-serif; line-height: 1.6; max-width: 1000px;\">\n",
    "    <h5 style=\"color: green;\">4. Cinemática inversa</h5>\n",
    "    <p>\n",
    "        Calcula los ángulos de las articulaciones en base a la posición del efector final\n",
    "    </p>\n",
    "</div>\n",
    "\n",
    "<div style=\"text-align: center;\">\n",
    "<img src=\"./images/ik_sol.jpg\" alt=\"diagram0\" width=\"600\"/>\n",
    "\n",
    "$$\n",
    "q = K^{-1}(\\xi_E)\n",
    "$$\n"
   ]
  },
  {
   "cell_type": "markdown",
   "metadata": {},
   "source": [
    "<h4 style=\"color: green;\">Definición general</h4>\n",
    "\n"
   ]
  },
  {
   "cell_type": "markdown",
   "metadata": {},
   "source": [
    "Brazo Robótico con 1 joint y 1 eslabón "
   ]
  },
  {
   "cell_type": "markdown",
   "metadata": {},
   "source": [
    "<div style=\"text-align: center;\">\n",
    "<img src=\"./images/1joint_1link.png\" alt=\"diagram1\" width=\"400\"/>\n",
    "</div>\n"
   ]
  },
  {
   "cell_type": "markdown",
   "metadata": {},
   "source": [
    "Gráfico de Poses para resolver la cinemática\n"
   ]
  },
  {
   "cell_type": "markdown",
   "metadata": {},
   "source": [
    "<div style=\"text-align: center;\">\n",
    "<img src=\"./images/poses_sol1.png\" alt=\"diagram2\" width=\"400\" /> \n",
    "</div>\n"
   ]
  },
  {
   "cell_type": "markdown",
   "metadata": {},
   "source": [
    "Ecuación de la pose del efector final para el caso 1 joint y 1 eslabón"
   ]
  },
  {
   "cell_type": "markdown",
   "metadata": {},
   "source": [
    "$$\n",
    "{}^0\\xi_E = \\xi^r(q) \\oplus \\xi^{tx}(a_1)\n",
    "$$"
   ]
  },
  {
   "cell_type": "markdown",
   "metadata": {},
   "source": [
    "<h4 style=\"color: green;\">Implementación práctica</h4>"
   ]
  },
  {
   "cell_type": "markdown",
   "metadata": {},
   "source": [
    "Brazo Robótico con 2 joints y 2 eslabones "
   ]
  },
  {
   "cell_type": "markdown",
   "metadata": {},
   "source": [
    "<div style=\"text-align: center;\">\n",
    "<img src=\"./images/2joints_2links.png\" alt=\"diagram2\" width=\"400\" /> \n",
    "</div>\n",
    "\n",
    "\n"
   ]
  },
  {
   "cell_type": "markdown",
   "metadata": {},
   "source": [
    "Gráfico de Poses para resolver la cinemática del brazo del robot\n",
    "\n",
    "\n",
    "\n"
   ]
  },
  {
   "cell_type": "markdown",
   "metadata": {},
   "source": [
    "<div style=\"text-align: center;\">\n",
    "<img src=\"./images/poses_sol2.png\" alt=\"diagram2\" width=\"400\" /> \n",
    "</div>"
   ]
  },
  {
   "cell_type": "markdown",
   "metadata": {},
   "source": [
    "<span style=\"color: cyan;\"> Ecuación de la pose del efector final para el caso 2 joints y 2 eslabones</span>"
   ]
  },
  {
   "cell_type": "markdown",
   "metadata": {},
   "source": [
    "$$\n",
    "{}^0\\xi_E = \\xi^r(q0) \\oplus \\xi^{tx}(a_1) \\oplus \\xi^r(q1) \\oplus \\xi^{tx}(a_2)\n",
    "$$"
   ]
  },
  {
   "cell_type": "markdown",
   "metadata": {},
   "source": [
    "Resultado del cálculo de la cinemática directa dado los ángulos de los joints"
   ]
  },
  {
   "cell_type": "markdown",
   "metadata": {},
   "source": [
    "\\begin{bmatrix}\n",
    "\\cos(q_0 + q_1) & -\\sin(q_0 + q_1) & a_1 \\cdot \\cos(q_0) + a_2 \\cdot \\cos(q_0 + q_1) \\\\\n",
    "\\sin(q_0 + q_1) & \\cos(q_0 + q_1) & a_1 \\cdot \\sin(q_0) + a_2 \\cdot \\sin(q_0 + q_1) \\\\\n",
    "0 & 0 & 1\n",
    "\\end{bmatrix}"
   ]
  },
  {
   "cell_type": "markdown",
   "metadata": {},
   "source": [
    "La posición del efector final"
   ]
  },
  {
   "cell_type": "markdown",
   "metadata": {},
   "source": [
    "\n",
    "$$\n",
    "x = a_1 \\cdot \\cos(q_0) + a_2 \\cdot \\cos(q_0 + q_1)\\\\\n",
    "y = a_1 \\cdot \\sin(q_0) + a_2 \\cdot \\sin(q_0 + q_1)\n",
    "$$\n"
   ]
  },
  {
   "cell_type": "markdown",
   "metadata": {},
   "source": [
    "Resolución de dos ecuaciones con la técnica de elevación al cuadrado y suma de las dos ecuaciones"
   ]
  },
  {
   "cell_type": "markdown",
   "metadata": {},
   "source": [
    "$$\n",
    "a_0^2 + 2a_0a_1 \\cos(q_1) + a_1^2 - x^2 - y^2 = 0\n",
    "$$\n"
   ]
  },
  {
   "cell_type": "markdown",
   "metadata": {},
   "source": [
    "<span style=\"color: cyan;\">Solución de q1 es una lista con dos elementos</span>\n"
   ]
  },
  {
   "cell_type": "markdown",
   "metadata": {},
   "source": [
    "$$\n",
    "q1 = \\left[ -\\arccos\\left(-\\frac{a_1^2 + a_2^2 - x^2 - y^2}{2a_1a_2}\\right) + 2\\pi, \\arccos\\left(\\frac{-a_1^2 - a_2^2 + x^2 + y^2}{2a_1a_2}\\right) \\right]\n",
    "$$"
   ]
  },
  {
   "cell_type": "markdown",
   "metadata": {},
   "source": [
    "Tupla de valores de la matriz del efector final\n"
   ]
  },
  {
   "cell_type": "markdown",
   "metadata": {},
   "source": [
    "\n",
    "$$\n",
    "a_1 \\cdot \\cos(q_0) + a_2 \\cdot \\cos(q_0 + q_1) - x\\\\\n",
    "a_1 \\cdot \\sin(q_0) + a_2 \\cdot \\sin(q_0 + q_1) - y\n",
    "$$\n"
   ]
  },
  {
   "cell_type": "markdown",
   "metadata": {},
   "source": [
    "Expandiendo las ecuaciones anteriormente dadas"
   ]
  },
  {
   "cell_type": "markdown",
   "metadata": {},
   "source": [
    "$$\n",
    "a_1\\cos(q_0) + a_2(\\cos(q_0)\\cos(q_1) - \\sin(q_0) \\sin(q_1)) - x\\\\\n",
    "a_1\\sin(q_0) + a_2(\\sin(q_1)\\cos(q_0) + \\sin(q_0) \\cos(q_1)) - y\n",
    "$$\n"
   ]
  },
  {
   "cell_type": "markdown",
   "metadata": {},
   "source": [
    "<span style=\"color:cyan;\">Solución para q0 en base a seno y coseno</span>\n"
   ]
  },
  {
   "cell_type": "markdown",
   "metadata": {},
   "source": [
    "$$\n",
    "q0 = \\text{atan2}\\left(\\frac{a_1y - a_2x \\sin(q_1) + a_2y \\cos(q_1)}{a_1^2 + 2a_0a_2 \\cos(q_1) + a_2^2}, \\frac{a_1x + a_2x \\cos(q_1) + a_2y \\sin(q_1)}{a_1^2 + 2a_1a_2 \\cos(q_1) + a_2^2}\\right)\n",
    "$$\n",
    "\n"
   ]
  },
  {
   "cell_type": "markdown",
   "metadata": {},
   "source": [
    "<h4 style=\"color: green;\">Transformación a código</h4>\n",
    "\n",
    "[Ir a las funciones de robot_arm.py](robot_arm.py)."
   ]
  },
  {
   "cell_type": "markdown",
   "metadata": {},
   "source": [
    "<h4 style=\"color: green;\">Simulación de la cinemática del robot</h4>\n",
    "\n",
    "Correr el programa [app.py](app.py)</li>\n",
    "\n",
    "Realizar pruebas de los cálculos de ik, fk, abriendo el notebook [robot_experiments.ipynb](robot_experiments.py).</li>\n",
    "\n",
    "<div style=\"text-align: center;\">\n",
    "<img src=\"./images/app.png\" alt=\"diagram2\" width=\"400\"/> \n",
    "</div>\n",
    "\n"
   ]
  },
  {
   "cell_type": "markdown",
   "metadata": {},
   "source": [
    "<h4 style=\"color: green;\">Herramientas y entorno de desarrollo</h4>\n",
    "\n",
    "<li> roboticstoolbox de Peter Corke </li>\n",
    "<li> Matplotlib </li>\n",
    "<li> Pygame </li>\n",
    "<li> Sympy </li>\n",
    "\n",
    "Mayor información para la configuración del entorno de desarrollo en python revisar [README.md](README.md)."
   ]
  },
  {
   "cell_type": "markdown",
   "metadata": {},
   "source": [
    "<h4 style=\"color: green;\">Conclusiones</h4>\n",
    "    <li> Simulación 2d y visualización de la cinemática de un brazo robótico de 2 articulaciones y 2 eslabones. </li>\n",
    "    <li> Aumentar eslabones y articulaciones</li>\n",
    "    <li> Simular en 3d</li>\n",
    "    <li> Adicionar componentes dinámicos</li>\n",
    "\n",
    "/[Aplicacion Real](app_practica.pm4)\n",
    "    "
   ]
  },
  {
   "cell_type": "markdown",
   "metadata": {},
   "source": []
  }
 ],
 "metadata": {
  "kernelspec": {
   "display_name": "pyday_robot",
   "language": "python",
   "name": "python3"
  },
  "language_info": {
   "codemirror_mode": {
    "name": "ipython",
    "version": 3
   },
   "file_extension": ".py",
   "mimetype": "text/x-python",
   "name": "python",
   "nbconvert_exporter": "python",
   "pygments_lexer": "ipython3",
   "version": "3.11.10"
  }
 },
 "nbformat": 4,
 "nbformat_minor": 2
}
